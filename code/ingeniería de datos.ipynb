{
 "cells": [
  {
   "cell_type": "markdown",
   "metadata": {},
   "source": [
    "# 1. Bibliotecas, paquetes y funciones"
   ]
  },
  {
   "cell_type": "code",
   "execution_count": 2,
   "metadata": {},
   "outputs": [
    {
     "name": "stdout",
     "output_type": "stream",
     "text": [
      "WARNING:tensorflow:From c:\\Users\\asarr\\anaconda3\\Lib\\site-packages\\keras\\src\\losses.py:2976: The name tf.losses.sparse_softmax_cross_entropy is deprecated. Please use tf.compat.v1.losses.sparse_softmax_cross_entropy instead.\n",
      "\n"
     ]
    }
   ],
   "source": [
    "import pandas as pd\n",
    "import re\n",
    "from transformers import pipeline, TFAutoModelForTokenClassification, AutoTokenizer"
   ]
  },
  {
   "cell_type": "code",
   "execution_count": 3,
   "metadata": {},
   "outputs": [],
   "source": [
    "def extraer_entidades(texto, ner_model):\n",
    "    # Run the NER\n",
    "    ner_output = ner_model(texto)\n",
    "    \n",
    "    entities = []\n",
    "    i = 0\n",
    "    while i < len(ner_output):\n",
    "        ent = ner_output[i]\n",
    "        if ent['entity'] == 'B-PER' or ent['entity'] == 'I-PER':\n",
    "            # Start building the word\n",
    "            word = ent['word']\n",
    "            i += 1\n",
    "            # Continue building the word if it starts with ##\n",
    "            while i < len(ner_output) and ner_output[i]['word'].startswith('##'):\n",
    "                word += re.sub('##', '', ner_output[i]['word'])\n",
    "                i += 1\n",
    "            entities.append(word)\n",
    "        else:\n",
    "            i += 1\n",
    "    \n",
    "    # Get unique entities\n",
    "    unique_entities = list(set(entities))\n",
    "    \n",
    "    return unique_entities\n",
    "\n",
    "def extraer_paises(texto, country_lst):\n",
    "    paises = []\n",
    "    for ent in ner_model(texto):\n",
    "        if ent['entity'] == 'B-LOC' or ent['entity'] == 'I-LOC':\n",
    "            if ent['word'] in country_lst:\n",
    "                paises.append(ent['word'])\n",
    "    return list(set(paises))"
   ]
  },
  {
   "cell_type": "markdown",
   "metadata": {},
   "source": [
    "# 2. Ingeniería de datos"
   ]
  },
  {
   "cell_type": "code",
   "execution_count": 31,
   "metadata": {},
   "outputs": [
    {
     "data": {
      "text/html": [
       "<div>\n",
       "<style scoped>\n",
       "    .dataframe tbody tr th:only-of-type {\n",
       "        vertical-align: middle;\n",
       "    }\n",
       "\n",
       "    .dataframe tbody tr th {\n",
       "        vertical-align: top;\n",
       "    }\n",
       "\n",
       "    .dataframe thead th {\n",
       "        text-align: right;\n",
       "    }\n",
       "</style>\n",
       "<table border=\"1\" class=\"dataframe\">\n",
       "  <thead>\n",
       "    <tr style=\"text-align: right;\">\n",
       "      <th></th>\n",
       "      <th>Monitoreo</th>\n",
       "      <th>Text</th>\n",
       "    </tr>\n",
       "  </thead>\n",
       "  <tbody>\n",
       "    <tr>\n",
       "      <th>0</th>\n",
       "      <td>Report No 5. 0617-0630 2019</td>\n",
       "      <td>June 28 - June 30: Conservatives Blame OSF of ...</td>\n",
       "    </tr>\n",
       "    <tr>\n",
       "      <th>1</th>\n",
       "      <td>Report No 6. 0701-0714 2019</td>\n",
       "      <td>July 3: Big Profile Brazilian Conservatives Am...</td>\n",
       "    </tr>\n",
       "    <tr>\n",
       "      <th>2</th>\n",
       "      <td>Report No 8. 0729-0811 2019</td>\n",
       "      <td>August 6: Far-Rights Attacks to OSF From Europ...</td>\n",
       "    </tr>\n",
       "    <tr>\n",
       "      <th>3</th>\n",
       "      <td>Report No 9. 0812-0825 2019</td>\n",
       "      <td>August 23: An Old Conspiratorial Piece Denounc...</td>\n",
       "    </tr>\n",
       "    <tr>\n",
       "      <th>4</th>\n",
       "      <td>Report No 10. 0826-0908 2019</td>\n",
       "      <td>August 26: Christian Groups Point Out at Mr. S...</td>\n",
       "    </tr>\n",
       "  </tbody>\n",
       "</table>\n",
       "</div>"
      ],
      "text/plain": [
       "                      Monitoreo  \\\n",
       "0   Report No 5. 0617-0630 2019   \n",
       "1   Report No 6. 0701-0714 2019   \n",
       "2   Report No 8. 0729-0811 2019   \n",
       "3   Report No 9. 0812-0825 2019   \n",
       "4  Report No 10. 0826-0908 2019   \n",
       "\n",
       "                                                Text  \n",
       "0  June 28 - June 30: Conservatives Blame OSF of ...  \n",
       "1  July 3: Big Profile Brazilian Conservatives Am...  \n",
       "2  August 6: Far-Rights Attacks to OSF From Europ...  \n",
       "3  August 23: An Old Conspiratorial Piece Denounc...  \n",
       "4  August 26: Christian Groups Point Out at Mr. S...  "
      ]
     },
     "execution_count": 31,
     "metadata": {},
     "output_type": "execute_result"
    }
   ],
   "source": [
    "#read json.dumps file as df\n",
    "path = r\"C:\\Users\\asarr\\Documents\\Projects\\llm-linterna-verde\\data\\results\\docs.csv\"\n",
    "monitoreos = pd.read_csv(path)\n",
    "monitoreos.head()"
   ]
  },
  {
   "cell_type": "code",
   "execution_count": 33,
   "metadata": {},
   "outputs": [
    {
     "data": {
      "text/plain": [
       "(82, 2)"
      ]
     },
     "execution_count": 33,
     "metadata": {},
     "output_type": "execute_result"
    }
   ],
   "source": [
    "monitoreos.shape"
   ]
  },
  {
   "cell_type": "markdown",
   "metadata": {},
   "source": [
    "## Fechas"
   ]
  },
  {
   "cell_type": "code",
   "execution_count": 34,
   "metadata": {},
   "outputs": [
    {
     "data": {
      "text/plain": [
       "64"
      ]
     },
     "execution_count": 34,
     "metadata": {},
     "output_type": "execute_result"
    }
   ],
   "source": [
    "month_lst = ['june', 'july', 'august', 'september', 'october', 'november', 'december', 'january', 'february', 'march', 'april', 'may']\n",
    "\n",
    "tracker = len(month_lst)\n",
    "\n",
    "while tracker < 64:\n",
    "    month_lst += month_lst\n",
    "    tracker = len(month_lst)\n",
    "\n",
    "month_lst = month_lst[:64]\n",
    "len(month_lst)"
   ]
  },
  {
   "cell_type": "code",
   "execution_count": 35,
   "metadata": {},
   "outputs": [],
   "source": [
    "month_lst_2 = ['september', 'october', 'november', 'december', 'january', 'february', 'march', 'april', 'may', 'june', 'july', 'august']\n",
    "\n",
    "tracker = len(month_lst)\n",
    "while tracker < 82:\n",
    "    month_lst += month_lst_2\n",
    "    tracker = len(month_lst)\n",
    "\n",
    "month_lst = month_lst[:82]"
   ]
  },
  {
   "cell_type": "code",
   "execution_count": 36,
   "metadata": {},
   "outputs": [
    {
     "data": {
      "text/html": [
       "<div>\n",
       "<style scoped>\n",
       "    .dataframe tbody tr th:only-of-type {\n",
       "        vertical-align: middle;\n",
       "    }\n",
       "\n",
       "    .dataframe tbody tr th {\n",
       "        vertical-align: top;\n",
       "    }\n",
       "\n",
       "    .dataframe thead th {\n",
       "        text-align: right;\n",
       "    }\n",
       "</style>\n",
       "<table border=\"1\" class=\"dataframe\">\n",
       "  <thead>\n",
       "    <tr style=\"text-align: right;\">\n",
       "      <th></th>\n",
       "      <th>Monitoreo</th>\n",
       "      <th>Text</th>\n",
       "      <th>month</th>\n",
       "    </tr>\n",
       "  </thead>\n",
       "  <tbody>\n",
       "    <tr>\n",
       "      <th>0</th>\n",
       "      <td>Report No 5. 0617-0630 2019</td>\n",
       "      <td>June 28 - June 30: Conservatives Blame OSF of ...</td>\n",
       "      <td>june</td>\n",
       "    </tr>\n",
       "    <tr>\n",
       "      <th>1</th>\n",
       "      <td>Report No 6. 0701-0714 2019</td>\n",
       "      <td>July 3: Big Profile Brazilian Conservatives Am...</td>\n",
       "      <td>july</td>\n",
       "    </tr>\n",
       "    <tr>\n",
       "      <th>2</th>\n",
       "      <td>Report No 8. 0729-0811 2019</td>\n",
       "      <td>August 6: Far-Rights Attacks to OSF From Europ...</td>\n",
       "      <td>august</td>\n",
       "    </tr>\n",
       "    <tr>\n",
       "      <th>3</th>\n",
       "      <td>Report No 9. 0812-0825 2019</td>\n",
       "      <td>August 23: An Old Conspiratorial Piece Denounc...</td>\n",
       "      <td>september</td>\n",
       "    </tr>\n",
       "    <tr>\n",
       "      <th>4</th>\n",
       "      <td>Report No 10. 0826-0908 2019</td>\n",
       "      <td>August 26: Christian Groups Point Out at Mr. S...</td>\n",
       "      <td>october</td>\n",
       "    </tr>\n",
       "    <tr>\n",
       "      <th>...</th>\n",
       "      <td>...</td>\n",
       "      <td>...</td>\n",
       "      <td>...</td>\n",
       "    </tr>\n",
       "    <tr>\n",
       "      <th>77</th>\n",
       "      <td>Soros Monitor 3.0 - No. 14</td>\n",
       "      <td>in Brazil, NGO work is questioned over OSF’s f...</td>\n",
       "      <td>october</td>\n",
       "    </tr>\n",
       "    <tr>\n",
       "      <th>78</th>\n",
       "      <td>Soros Monitor 3.0 - No. 15</td>\n",
       "      <td>Perú The Peruvian Prosecutor’s Office has orde...</td>\n",
       "      <td>november</td>\n",
       "    </tr>\n",
       "    <tr>\n",
       "      <th>79</th>\n",
       "      <td>Soros Monitor 3.0 - No. 16</td>\n",
       "      <td>echoes of US student protests in Latam Last Ap...</td>\n",
       "      <td>december</td>\n",
       "    </tr>\n",
       "    <tr>\n",
       "      <th>80</th>\n",
       "      <td>Soros Monitor 3.0 - No. 17</td>\n",
       "      <td>Soros-naming is used to disregard human rights...</td>\n",
       "      <td>january</td>\n",
       "    </tr>\n",
       "    <tr>\n",
       "      <th>81</th>\n",
       "      <td>Soros Monitor 3.0 - Special Edition_ Colombia</td>\n",
       "      <td>﻿A yellow sign with black text Description aut...</td>\n",
       "      <td>february</td>\n",
       "    </tr>\n",
       "  </tbody>\n",
       "</table>\n",
       "<p>82 rows × 3 columns</p>\n",
       "</div>"
      ],
      "text/plain": [
       "                                        Monitoreo  \\\n",
       "0                     Report No 5. 0617-0630 2019   \n",
       "1                     Report No 6. 0701-0714 2019   \n",
       "2                     Report No 8. 0729-0811 2019   \n",
       "3                     Report No 9. 0812-0825 2019   \n",
       "4                    Report No 10. 0826-0908 2019   \n",
       "..                                            ...   \n",
       "77                     Soros Monitor 3.0 - No. 14   \n",
       "78                     Soros Monitor 3.0 - No. 15   \n",
       "79                     Soros Monitor 3.0 - No. 16   \n",
       "80                     Soros Monitor 3.0 - No. 17   \n",
       "81  Soros Monitor 3.0 - Special Edition_ Colombia   \n",
       "\n",
       "                                                 Text      month  \n",
       "0   June 28 - June 30: Conservatives Blame OSF of ...       june  \n",
       "1   July 3: Big Profile Brazilian Conservatives Am...       july  \n",
       "2   August 6: Far-Rights Attacks to OSF From Europ...     august  \n",
       "3   August 23: An Old Conspiratorial Piece Denounc...  september  \n",
       "4   August 26: Christian Groups Point Out at Mr. S...    october  \n",
       "..                                                ...        ...  \n",
       "77  in Brazil, NGO work is questioned over OSF’s f...    october  \n",
       "78  Perú The Peruvian Prosecutor’s Office has orde...   november  \n",
       "79  echoes of US student protests in Latam Last Ap...   december  \n",
       "80  Soros-naming is used to disregard human rights...    january  \n",
       "81  ﻿A yellow sign with black text Description aut...   february  \n",
       "\n",
       "[82 rows x 3 columns]"
      ]
     },
     "execution_count": 36,
     "metadata": {},
     "output_type": "execute_result"
    }
   ],
   "source": [
    "monitoreos['month'] = month_lst\n",
    "monitoreos"
   ]
  },
  {
   "cell_type": "code",
   "execution_count": 53,
   "metadata": {},
   "outputs": [
    {
     "data": {
      "text/html": [
       "<div>\n",
       "<style scoped>\n",
       "    .dataframe tbody tr th:only-of-type {\n",
       "        vertical-align: middle;\n",
       "    }\n",
       "\n",
       "    .dataframe tbody tr th {\n",
       "        vertical-align: top;\n",
       "    }\n",
       "\n",
       "    .dataframe thead th {\n",
       "        text-align: right;\n",
       "    }\n",
       "</style>\n",
       "<table border=\"1\" class=\"dataframe\">\n",
       "  <thead>\n",
       "    <tr style=\"text-align: right;\">\n",
       "      <th></th>\n",
       "      <th>Monitoreo</th>\n",
       "      <th>Text</th>\n",
       "      <th>month</th>\n",
       "      <th>year</th>\n",
       "    </tr>\n",
       "  </thead>\n",
       "  <tbody>\n",
       "    <tr>\n",
       "      <th>0</th>\n",
       "      <td>Report No 5. 0617-0630 2019</td>\n",
       "      <td>June 28 - June 30: Conservatives Blame OSF of ...</td>\n",
       "      <td>june</td>\n",
       "      <td>2019</td>\n",
       "    </tr>\n",
       "    <tr>\n",
       "      <th>1</th>\n",
       "      <td>Report No 6. 0701-0714 2019</td>\n",
       "      <td>July 3: Big Profile Brazilian Conservatives Am...</td>\n",
       "      <td>july</td>\n",
       "      <td>2019</td>\n",
       "    </tr>\n",
       "    <tr>\n",
       "      <th>2</th>\n",
       "      <td>Report No 8. 0729-0811 2019</td>\n",
       "      <td>August 6: Far-Rights Attacks to OSF From Europ...</td>\n",
       "      <td>august</td>\n",
       "      <td>2019</td>\n",
       "    </tr>\n",
       "    <tr>\n",
       "      <th>3</th>\n",
       "      <td>Report No 9. 0812-0825 2019</td>\n",
       "      <td>August 23: An Old Conspiratorial Piece Denounc...</td>\n",
       "      <td>september</td>\n",
       "      <td>2019</td>\n",
       "    </tr>\n",
       "    <tr>\n",
       "      <th>4</th>\n",
       "      <td>Report No 10. 0826-0908 2019</td>\n",
       "      <td>August 26: Christian Groups Point Out at Mr. S...</td>\n",
       "      <td>october</td>\n",
       "      <td>2019</td>\n",
       "    </tr>\n",
       "    <tr>\n",
       "      <th>...</th>\n",
       "      <td>...</td>\n",
       "      <td>...</td>\n",
       "      <td>...</td>\n",
       "      <td>...</td>\n",
       "    </tr>\n",
       "    <tr>\n",
       "      <th>77</th>\n",
       "      <td>Soros Monitor 3.0 - No. 14</td>\n",
       "      <td>in Brazil, NGO work is questioned over OSF’s f...</td>\n",
       "      <td>october</td>\n",
       "      <td>2024</td>\n",
       "    </tr>\n",
       "    <tr>\n",
       "      <th>78</th>\n",
       "      <td>Soros Monitor 3.0 - No. 15</td>\n",
       "      <td>Perú The Peruvian Prosecutor’s Office has orde...</td>\n",
       "      <td>november</td>\n",
       "      <td>2024</td>\n",
       "    </tr>\n",
       "    <tr>\n",
       "      <th>79</th>\n",
       "      <td>Soros Monitor 3.0 - No. 16</td>\n",
       "      <td>echoes of US student protests in Latam Last Ap...</td>\n",
       "      <td>december</td>\n",
       "      <td>2024</td>\n",
       "    </tr>\n",
       "    <tr>\n",
       "      <th>80</th>\n",
       "      <td>Soros Monitor 3.0 - No. 17</td>\n",
       "      <td>Soros-naming is used to disregard human rights...</td>\n",
       "      <td>january</td>\n",
       "      <td>2024</td>\n",
       "    </tr>\n",
       "    <tr>\n",
       "      <th>81</th>\n",
       "      <td>Soros Monitor 3.0 - Special Edition_ Colombia</td>\n",
       "      <td>﻿A yellow sign with black text Description aut...</td>\n",
       "      <td>february</td>\n",
       "      <td>2023</td>\n",
       "    </tr>\n",
       "  </tbody>\n",
       "</table>\n",
       "<p>82 rows × 4 columns</p>\n",
       "</div>"
      ],
      "text/plain": [
       "                                        Monitoreo  \\\n",
       "0                     Report No 5. 0617-0630 2019   \n",
       "1                     Report No 6. 0701-0714 2019   \n",
       "2                     Report No 8. 0729-0811 2019   \n",
       "3                     Report No 9. 0812-0825 2019   \n",
       "4                    Report No 10. 0826-0908 2019   \n",
       "..                                            ...   \n",
       "77                     Soros Monitor 3.0 - No. 14   \n",
       "78                     Soros Monitor 3.0 - No. 15   \n",
       "79                     Soros Monitor 3.0 - No. 16   \n",
       "80                     Soros Monitor 3.0 - No. 17   \n",
       "81  Soros Monitor 3.0 - Special Edition_ Colombia   \n",
       "\n",
       "                                                 Text      month  year  \n",
       "0   June 28 - June 30: Conservatives Blame OSF of ...       june  2019  \n",
       "1   July 3: Big Profile Brazilian Conservatives Am...       july  2019  \n",
       "2   August 6: Far-Rights Attacks to OSF From Europ...     august  2019  \n",
       "3   August 23: An Old Conspiratorial Piece Denounc...  september  2019  \n",
       "4   August 26: Christian Groups Point Out at Mr. S...    october  2019  \n",
       "..                                                ...        ...   ...  \n",
       "77  in Brazil, NGO work is questioned over OSF’s f...    october  2024  \n",
       "78  Perú The Peruvian Prosecutor’s Office has orde...   november  2024  \n",
       "79  echoes of US student protests in Latam Last Ap...   december  2024  \n",
       "80  Soros-naming is used to disregard human rights...    january  2024  \n",
       "81  ﻿A yellow sign with black text Description aut...   february  2023  \n",
       "\n",
       "[82 rows x 4 columns]"
      ]
     },
     "execution_count": 53,
     "metadata": {},
     "output_type": "execute_result"
    }
   ],
   "source": [
    "year = [2019] * 12 + [2020] * 27 + [2021] * 12 + [2022] * 13 + [2023] * 5 + [2024] * 12 + [2023]\n",
    "\n",
    "monitoreos['year'] = year\n",
    "monitoreos"
   ]
  },
  {
   "cell_type": "markdown",
   "metadata": {},
   "source": [
    "## Reconocimiento de entidades"
   ]
  },
  {
   "cell_type": "markdown",
   "metadata": {},
   "source": [
    "### Personas"
   ]
  },
  {
   "cell_type": "code",
   "execution_count": 54,
   "metadata": {},
   "outputs": [
    {
     "name": "stdout",
     "output_type": "stream",
     "text": [
      "WARNING:tensorflow:From c:\\Users\\asarr\\anaconda3\\Lib\\site-packages\\keras\\src\\backend.py:873: The name tf.get_default_graph is deprecated. Please use tf.compat.v1.get_default_graph instead.\n",
      "\n"
     ]
    },
    {
     "name": "stderr",
     "output_type": "stream",
     "text": [
      "All PyTorch model weights were used when initializing TFBertForTokenClassification.\n",
      "\n",
      "All the weights of TFBertForTokenClassification were initialized from the PyTorch model.\n",
      "If your task is similar to the task the model of the checkpoint was trained on, you can already use TFBertForTokenClassification for predictions without further training.\n"
     ]
    }
   ],
   "source": [
    "tokenizer = AutoTokenizer.from_pretrained(\"dslim/bert-base-NER\")\n",
    "model = TFAutoModelForTokenClassification.from_pretrained(\"dslim/bert-base-NER\")\n",
    "\n",
    "ner_model = pipeline('ner', model=model, tokenizer=tokenizer)\n",
    "\n",
    "monitoreos['entities'] = monitoreos['Text'].apply(lambda x: extraer_entidades(x, ner_model))"
   ]
  },
  {
   "cell_type": "markdown",
   "metadata": {},
   "source": [
    "### Paises"
   ]
  },
  {
   "cell_type": "code",
   "execution_count": null,
   "metadata": {},
   "outputs": [
    {
     "data": {
      "text/html": [
       "<div>\n",
       "<style scoped>\n",
       "    .dataframe tbody tr th:only-of-type {\n",
       "        vertical-align: middle;\n",
       "    }\n",
       "\n",
       "    .dataframe tbody tr th {\n",
       "        vertical-align: top;\n",
       "    }\n",
       "\n",
       "    .dataframe thead th {\n",
       "        text-align: right;\n",
       "    }\n",
       "</style>\n",
       "<table border=\"1\" class=\"dataframe\">\n",
       "  <thead>\n",
       "    <tr style=\"text-align: right;\">\n",
       "      <th></th>\n",
       "      <th>Monitoreo</th>\n",
       "      <th>Text</th>\n",
       "      <th>entities</th>\n",
       "      <th>Countries</th>\n",
       "    </tr>\n",
       "  </thead>\n",
       "  <tbody>\n",
       "    <tr>\n",
       "      <th>0</th>\n",
       "      <td>Report No 10. 0826-0908 2019.pdf</td>\n",
       "      <td>August 26: Christian Groups Point Out at Mr. S...</td>\n",
       "      <td>[Carvalho, David, Sorosive, Francis, Soros, Ju...</td>\n",
       "      <td>[Honduras, Peru, Colombia, Mexico]</td>\n",
       "    </tr>\n",
       "    <tr>\n",
       "      <th>1</th>\n",
       "      <td>Report No 11. 0909-0921 2019.pdf</td>\n",
       "      <td>September 10: Former Brazilian Legislator Jean...</td>\n",
       "      <td>[Jean, ##querdizada, Greta, Soros, Wyllys, Tru...</td>\n",
       "      <td>[China, Brazil]</td>\n",
       "    </tr>\n",
       "    <tr>\n",
       "      <th>2</th>\n",
       "      <td>Report No 12. 0922-1006 2019.pdf</td>\n",
       "      <td>September 23-26: Attacks to Greta Thunberg by ...</td>\n",
       "      <td>[”, Jair, Greta, Spike, Marie, Soros, Ernesto,...</td>\n",
       "      <td>[Brazil, Mexico]</td>\n",
       "    </tr>\n",
       "    <tr>\n",
       "      <th>3</th>\n",
       "      <td>Report No 13. 1007-1020 2019.pdf</td>\n",
       "      <td>October 11, October 20: Mr. Soros’ Alleged Rol...</td>\n",
       "      <td>[Soros]</td>\n",
       "      <td>[Cuba, Ecuador, Colombia, Chile, Venezuela]</td>\n",
       "    </tr>\n",
       "    <tr>\n",
       "      <th>4</th>\n",
       "      <td>Report No 14. 1021-1104 2019.pdf</td>\n",
       "      <td>October 27-31: Colombian Hard-Right See a Mr. ...</td>\n",
       "      <td>[Iván, Duque, Uribe, Ávaro, Soros, Daniel, U, ...</td>\n",
       "      <td>[Argentina, Colombia, Chile]</td>\n",
       "    </tr>\n",
       "  </tbody>\n",
       "</table>\n",
       "</div>"
      ],
      "text/plain": [
       "                          Monitoreo  \\\n",
       "0  Report No 10. 0826-0908 2019.pdf   \n",
       "1  Report No 11. 0909-0921 2019.pdf   \n",
       "2  Report No 12. 0922-1006 2019.pdf   \n",
       "3  Report No 13. 1007-1020 2019.pdf   \n",
       "4  Report No 14. 1021-1104 2019.pdf   \n",
       "\n",
       "                                                Text  \\\n",
       "0  August 26: Christian Groups Point Out at Mr. S...   \n",
       "1  September 10: Former Brazilian Legislator Jean...   \n",
       "2  September 23-26: Attacks to Greta Thunberg by ...   \n",
       "3  October 11, October 20: Mr. Soros’ Alleged Rol...   \n",
       "4  October 27-31: Colombian Hard-Right See a Mr. ...   \n",
       "\n",
       "                                            entities  \\\n",
       "0  [Carvalho, David, Sorosive, Francis, Soros, Ju...   \n",
       "1  [Jean, ##querdizada, Greta, Soros, Wyllys, Tru...   \n",
       "2  [”, Jair, Greta, Spike, Marie, Soros, Ernesto,...   \n",
       "3                                            [Soros]   \n",
       "4  [Iván, Duque, Uribe, Ávaro, Soros, Daniel, U, ...   \n",
       "\n",
       "                                     Countries  \n",
       "0           [Honduras, Peru, Colombia, Mexico]  \n",
       "1                              [China, Brazil]  \n",
       "2                             [Brazil, Mexico]  \n",
       "3  [Cuba, Ecuador, Colombia, Chile, Venezuela]  \n",
       "4                 [Argentina, Colombia, Chile]  "
      ]
     },
     "execution_count": 51,
     "metadata": {},
     "output_type": "execute_result"
    }
   ],
   "source": [
    "countries = ['Cuba', 'Venezuela', 'Montenegro', 'France', 'Perú', 'Peru', 'India', 'United States', 'US', 'UK', 'Colombia',\n",
    "             'Mexico', 'Brazil', 'Argentina', 'Chile', 'Ecuador', 'Bolivia', 'Paraguay', 'Uruguay', 'Guyana', 'Suriname',\n",
    "             'Salvador', 'Honduras', 'Nicaragua', 'Costa Rica', 'Panama', 'Jamaica', 'Haiti', 'Dominican Republic', 'Puerto Rico', 'USA',\n",
    "             'Russia', 'China', 'Spain' 'Korea', 'Palestine', 'Italy', 'Guatemala', 'Israel', 'Brasil', 'Georgia', 'Ukraine']\n",
    "\n",
    "monitoreos['Countries'] = monitoreos['Text'].apply(lambda x: extraer_paises(x, countries))\n",
    "monitoreos.head()"
   ]
  },
  {
   "cell_type": "markdown",
   "metadata": {},
   "source": [
    "## Reconocimiento de temas con topic modelling"
   ]
  }
 ],
 "metadata": {
  "kernelspec": {
   "display_name": "base",
   "language": "python",
   "name": "python3"
  },
  "language_info": {
   "codemirror_mode": {
    "name": "ipython",
    "version": 3
   },
   "file_extension": ".py",
   "mimetype": "text/x-python",
   "name": "python",
   "nbconvert_exporter": "python",
   "pygments_lexer": "ipython3",
   "version": "3.11.5"
  }
 },
 "nbformat": 4,
 "nbformat_minor": 2
}
