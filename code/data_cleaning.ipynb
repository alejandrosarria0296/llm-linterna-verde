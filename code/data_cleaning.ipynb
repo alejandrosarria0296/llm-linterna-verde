{
 "cells": [
  {
   "cell_type": "markdown",
   "metadata": {},
   "source": [
    "# 1. Bibliotecas y paquetes"
   ]
  },
  {
   "cell_type": "code",
   "execution_count": 1,
   "metadata": {},
   "outputs": [],
   "source": [
    "import pandas as pd\n",
    "import os\n",
    "import json\n",
    "\n",
    "import io\n",
    "import pdfminer.pdfinterp\n",
    "import pdfminer.converter\n",
    "import pdfminer.layout\n",
    "import pdfminer.pdfpage\n",
    "import re"
   ]
  },
  {
   "cell_type": "markdown",
   "metadata": {},
   "source": [
    "# 2. Funciones"
   ]
  },
  {
   "cell_type": "code",
   "execution_count": 2,
   "metadata": {},
   "outputs": [],
   "source": [
    "def clean_document_m3(file):\n",
    "    \"\"\" \n",
    "    Limpia el texto de un documento del Soros Monitor 3.\n",
    "        Input: \n",
    "            file (str): texto del documento.\n",
    "\n",
    "        Output:\n",
    "            doc (str): texto del documento limpio.\n",
    "    \"\"\"\n",
    "    doc = re.sub(r'\\n', ' ', file) # Elimina saltos de línea.\n",
    "    doc = re.sub(r'\\s+', ' ', doc) # Elimina espacios en blanco múltiples.\n",
    "    doc = re.sub(r'http\\S+', ' ', doc) # Elimina URLs.\n",
    "    doc = re.sub(r'.*This Month: ', '', doc) # Elimina texto al inicio del documento.\n",
    "    doc = re.sub(r'\\s*\\*\\s*\\*\\s*\\*\\s*PÁG\\.', '', doc) # Elimina texto al final del documento.\n",
    "\n",
    "    return doc\n",
    "\n",
    "def clean_document_m2(file):\n",
    "    \"\"\" \n",
    "    Limpia el texto de un documento del Soros Monitor 1 y 2.\n",
    "        Input: \n",
    "            file (str): texto del documento.\n",
    "\n",
    "        Output:\n",
    "            doc (str): texto del documento limpio.\n",
    "    \"\"\"\n",
    "    doc = re.sub(r'\\n', ' ', file) # Elimina saltos de línea.\n",
    "    doc = re.sub(r'\\s+', ' ', doc) # Elimina espacios en blanco múltiples.\n",
    "    doc = re.sub(r' ●', ' ', doc) # Elimina caracteres especiales.\n",
    "    doc = re.sub(r' ➔', '.', doc)\n",
    "    doc = re.sub(r'\\u200bEl', '.', doc)\n",
    "    doc = re.sub(r'Clip\\u200b', '', doc)\n",
    "    doc = re.sub(r'http\\S+', ' ', doc) # Elimina URLs.\n",
    "    doc = re.sub(r'.*Contents', '', doc) # Elimina texto al inicio del documento.\n",
    "    doc = re.sub(r'^[^a-zA-Z]*', '', doc)\n",
    "    doc = re.sub(r'\\s*\\*\\s*\\*\\s*\\*\\s*', '', doc) # Elimina texto al final del documento.\n",
    "\n",
    "    return doc\n",
    "\n",
    "def readPDF(pdfFile):\n",
    "    #Based on code from http://stackoverflow.com/a/20905381/4955164\n",
    "    #Using utf-8, if there are a bunch of random symbols try changing this\n",
    "    codec = 'utf-8'\n",
    "    rsrcmgr = pdfminer.pdfinterp.PDFResourceManager()\n",
    "    retstr = io.StringIO()\n",
    "    layoutParams = pdfminer.layout.LAParams()\n",
    "    device = pdfminer.converter.TextConverter(rsrcmgr, retstr, laparams = layoutParams)\n",
    "    #We need a device and an interpreter\n",
    "    interpreter = pdfminer.pdfinterp.PDFPageInterpreter(rsrcmgr, device)\n",
    "    password = ''\n",
    "    maxpages = 0\n",
    "    caching = True\n",
    "    pagenos=set()\n",
    "    for page in pdfminer.pdfpage.PDFPage.get_pages(pdfFile, pagenos, maxpages=maxpages, password=password,caching=caching, check_extractable=True):\n",
    "        interpreter.process_page(page)\n",
    "    device.close()\n",
    "    returnedString = retstr.getvalue()\n",
    "    retstr.close()\n",
    "    return returnedString\n",
    "\n",
    "def import_raw_pdf(file_path):\n",
    "    \"\"\"\n",
    "    takes a file path and returns a string of the text in the pdf\n",
    "\n",
    "    Input must be a natural string (r'path\\to\\file.pdf')\n",
    "    \"\"\"\n",
    "    with open(file_path, 'rb') as file:\n",
    "        f = file.read()\n",
    "    return readPDF(io.BytesIO(f))\n",
    "    \n",
    "def further_cleaning(text):\n",
    "    text = re.sub(r'Soros Monitor 3.0 - No. ', ' ', text)\n",
    "    text = re.sub(r' v\\d', ' ', text)\n",
    "    try:\n",
    "        text = int(text)\n",
    "    except:\n",
    "        pass\n",
    "    return text"
   ]
  },
  {
   "cell_type": "markdown",
   "metadata": {},
   "source": [
    "# 3. Importar texto y limpieza inicial"
   ]
  },
  {
   "cell_type": "code",
   "execution_count": 3,
   "metadata": {},
   "outputs": [],
   "source": [
    "doc_dict = {'Monitoreo': [], 'Text': []}"
   ]
  },
  {
   "cell_type": "markdown",
   "metadata": {},
   "source": [
    "## Monitor 1 y 2"
   ]
  },
  {
   "cell_type": "code",
   "execution_count": 4,
   "metadata": {},
   "outputs": [],
   "source": [
    "# Variables iniciales\n",
    "\n",
    "file_path = r\"C:\\Users\\asarr\\Documents\\Projects\\llm-linterna-verde\\data\\raw\\viejo\"\n"
   ]
  },
  {
   "cell_type": "code",
   "execution_count": 5,
   "metadata": {},
   "outputs": [],
   "source": [
    "for file in os.listdir(file_path):\n",
    "    doc = import_raw_pdf(os.path.join(file_path, file))\n",
    "    doc = clean_document_m2(doc)\n",
    "    doc_dict['Monitoreo'].append(file)\n",
    "    doc_dict['Text'].append(doc)"
   ]
  },
  {
   "cell_type": "markdown",
   "metadata": {},
   "source": [
    "## Monitor 3"
   ]
  },
  {
   "cell_type": "code",
   "execution_count": 6,
   "metadata": {},
   "outputs": [],
   "source": [
    "file_path = r\"C:\\Users\\asarr\\Documents\\Projects\\llm-linterna-verde\\data\\raw\\v3\""
   ]
  },
  {
   "cell_type": "code",
   "execution_count": 7,
   "metadata": {},
   "outputs": [],
   "source": [
    "#importar y procesar archivos\n",
    "\n",
    "for file in os.listdir(file_path):\n",
    "    with open(os.path.join(file_path, file), 'r') as f:\n",
    "        text = f.read()      \n",
    "    clean_text = clean_document_m3(text)\n",
    "    doc_dict['Monitoreo'].append(file)\n",
    "    doc_dict['Text'].append(clean_text)"
   ]
  },
  {
   "cell_type": "markdown",
   "metadata": {},
   "source": [
    "## Unión"
   ]
  },
  {
   "cell_type": "code",
   "execution_count": 64,
   "metadata": {},
   "outputs": [
    {
     "name": "stdout",
     "output_type": "stream",
     "text": [
      "(82, 2)\n"
     ]
    },
    {
     "data": {
      "text/html": [
       "<div>\n",
       "<style scoped>\n",
       "    .dataframe tbody tr th:only-of-type {\n",
       "        vertical-align: middle;\n",
       "    }\n",
       "\n",
       "    .dataframe tbody tr th {\n",
       "        vertical-align: top;\n",
       "    }\n",
       "\n",
       "    .dataframe thead th {\n",
       "        text-align: right;\n",
       "    }\n",
       "</style>\n",
       "<table border=\"1\" class=\"dataframe\">\n",
       "  <thead>\n",
       "    <tr style=\"text-align: right;\">\n",
       "      <th></th>\n",
       "      <th>Monitoreo</th>\n",
       "      <th>Text</th>\n",
       "    </tr>\n",
       "  </thead>\n",
       "  <tbody>\n",
       "    <tr>\n",
       "      <th>0</th>\n",
       "      <td>Report No 10. 0826-0908 2019.pdf</td>\n",
       "      <td>August 26: Christian Groups Point Out at Mr. S...</td>\n",
       "    </tr>\n",
       "    <tr>\n",
       "      <th>1</th>\n",
       "      <td>Report No 11. 0909-0921 2019.pdf</td>\n",
       "      <td>September 10: Former Brazilian Legislator Jean...</td>\n",
       "    </tr>\n",
       "    <tr>\n",
       "      <th>2</th>\n",
       "      <td>Report No 12. 0922-1006 2019.pdf</td>\n",
       "      <td>September 23-26: Attacks to Greta Thunberg by ...</td>\n",
       "    </tr>\n",
       "    <tr>\n",
       "      <th>3</th>\n",
       "      <td>Report No 13. 1007-1020 2019.pdf</td>\n",
       "      <td>October 11, October 20: Mr. Soros’ Alleged Rol...</td>\n",
       "    </tr>\n",
       "    <tr>\n",
       "      <th>4</th>\n",
       "      <td>Report No 14. 1021-1104 2019.pdf</td>\n",
       "      <td>October 27-31: Colombian Hard-Right See a Mr. ...</td>\n",
       "    </tr>\n",
       "  </tbody>\n",
       "</table>\n",
       "</div>"
      ],
      "text/plain": [
       "                          Monitoreo  \\\n",
       "0  Report No 10. 0826-0908 2019.pdf   \n",
       "1  Report No 11. 0909-0921 2019.pdf   \n",
       "2  Report No 12. 0922-1006 2019.pdf   \n",
       "3  Report No 13. 1007-1020 2019.pdf   \n",
       "4  Report No 14. 1021-1104 2019.pdf   \n",
       "\n",
       "                                                Text  \n",
       "0  August 26: Christian Groups Point Out at Mr. S...  \n",
       "1  September 10: Former Brazilian Legislator Jean...  \n",
       "2  September 23-26: Attacks to Greta Thunberg by ...  \n",
       "3  October 11, October 20: Mr. Soros’ Alleged Rol...  \n",
       "4  October 27-31: Colombian Hard-Right See a Mr. ...  "
      ]
     },
     "execution_count": 64,
     "metadata": {},
     "output_type": "execute_result"
    }
   ],
   "source": [
    "docs = pd.DataFrame(doc_dict)\n",
    "print(docs.shape)\n",
    "docs.head()"
   ]
  },
  {
   "cell_type": "code",
   "execution_count": 65,
   "metadata": {},
   "outputs": [],
   "source": [
    "#replace .pdf and .txt\n",
    "docs['Monitoreo'] = docs['Monitoreo'].str.replace('.txt', '')\n",
    "docs['Monitoreo'] = docs['Monitoreo'].str.replace('.pdf', '')"
   ]
  },
  {
   "cell_type": "code",
   "execution_count": 32,
   "metadata": {},
   "outputs": [],
   "source": []
  },
  {
   "cell_type": "code",
   "execution_count": 66,
   "metadata": {},
   "outputs": [
    {
     "name": "stderr",
     "output_type": "stream",
     "text": [
      "C:\\Users\\asarr\\AppData\\Local\\Temp\\ipykernel_25176\\1303141305.py:8: SettingWithCopyWarning: \n",
      "A value is trying to be set on a copy of a slice from a DataFrame.\n",
      "Try using .loc[row_indexer,col_indexer] = value instead\n",
      "\n",
      "See the caveats in the documentation: https://pandas.pydata.org/pandas-docs/stable/user_guide/indexing.html#returning-a-view-versus-a-copy\n",
      "  docs_v3['Monitoreo'] = docs_v3['Monitoreo'].apply(further_cleaning)\n"
     ]
    }
   ],
   "source": [
    "#sort docs by monitoreo\n",
    "docs = docs.sort_values(by='Monitoreo')\n",
    "docs = pd.concat([docs.iloc[8:12], docs.iloc[:8], docs.iloc[12:]])\n",
    "\n",
    "docs_v3 = docs.iloc[64:-1]\n",
    "special_cases = docs.iloc[-1]\n",
    "\n",
    "docs_v3['Monitoreo'] = docs_v3['Monitoreo'].apply(further_cleaning)\n",
    "docs_v3 = docs_v3.sort_values(by='Monitoreo')\n",
    "docs_v3['Monitoreo'] = docs_v3['Monitoreo'].apply(lambda x: 'Soros Monitor 3.0 - No. ' + str(x))\n",
    "\n",
    "docs = pd.concat([docs.iloc[:64], docs_v3])\n",
    "docs.loc[-1] = special_cases\n",
    "\n",
    "docs.reset_index(drop=True, inplace=True)\n"
   ]
  },
  {
   "cell_type": "code",
   "execution_count": 67,
   "metadata": {},
   "outputs": [
    {
     "data": {
      "text/html": [
       "<div>\n",
       "<style scoped>\n",
       "    .dataframe tbody tr th:only-of-type {\n",
       "        vertical-align: middle;\n",
       "    }\n",
       "\n",
       "    .dataframe tbody tr th {\n",
       "        vertical-align: top;\n",
       "    }\n",
       "\n",
       "    .dataframe thead th {\n",
       "        text-align: right;\n",
       "    }\n",
       "</style>\n",
       "<table border=\"1\" class=\"dataframe\">\n",
       "  <thead>\n",
       "    <tr style=\"text-align: right;\">\n",
       "      <th></th>\n",
       "      <th>Monitoreo</th>\n",
       "      <th>Text</th>\n",
       "    </tr>\n",
       "  </thead>\n",
       "  <tbody>\n",
       "    <tr>\n",
       "      <th>0</th>\n",
       "      <td>Report No 5. 0617-0630 2019</td>\n",
       "      <td>June 28 - June 30: Conservatives Blame OSF of ...</td>\n",
       "    </tr>\n",
       "    <tr>\n",
       "      <th>1</th>\n",
       "      <td>Report No 6. 0701-0714 2019</td>\n",
       "      <td>July 3: Big Profile Brazilian Conservatives Am...</td>\n",
       "    </tr>\n",
       "    <tr>\n",
       "      <th>2</th>\n",
       "      <td>Report No 8. 0729-0811 2019</td>\n",
       "      <td>August 6: Far-Rights Attacks to OSF From Europ...</td>\n",
       "    </tr>\n",
       "    <tr>\n",
       "      <th>3</th>\n",
       "      <td>Report No 9. 0812-0825 2019</td>\n",
       "      <td>August 23: An Old Conspiratorial Piece Denounc...</td>\n",
       "    </tr>\n",
       "    <tr>\n",
       "      <th>4</th>\n",
       "      <td>Report No 10. 0826-0908 2019</td>\n",
       "      <td>August 26: Christian Groups Point Out at Mr. S...</td>\n",
       "    </tr>\n",
       "    <tr>\n",
       "      <th>...</th>\n",
       "      <td>...</td>\n",
       "      <td>...</td>\n",
       "    </tr>\n",
       "    <tr>\n",
       "      <th>77</th>\n",
       "      <td>Soros Monitor 3.0 - No. 14</td>\n",
       "      <td>in Brazil, NGO work is questioned over OSF’s f...</td>\n",
       "    </tr>\n",
       "    <tr>\n",
       "      <th>78</th>\n",
       "      <td>Soros Monitor 3.0 - No. 15</td>\n",
       "      <td>Perú The Peruvian Prosecutor’s Office has orde...</td>\n",
       "    </tr>\n",
       "    <tr>\n",
       "      <th>79</th>\n",
       "      <td>Soros Monitor 3.0 - No. 16</td>\n",
       "      <td>echoes of US student protests in Latam Last Ap...</td>\n",
       "    </tr>\n",
       "    <tr>\n",
       "      <th>80</th>\n",
       "      <td>Soros Monitor 3.0 - No. 17</td>\n",
       "      <td>Soros-naming is used to disregard human rights...</td>\n",
       "    </tr>\n",
       "    <tr>\n",
       "      <th>81</th>\n",
       "      <td>Soros Monitor 3.0 - Special Edition_ Colombia</td>\n",
       "      <td>﻿A yellow sign with black text Description aut...</td>\n",
       "    </tr>\n",
       "  </tbody>\n",
       "</table>\n",
       "<p>82 rows × 2 columns</p>\n",
       "</div>"
      ],
      "text/plain": [
       "                                        Monitoreo  \\\n",
       "0                     Report No 5. 0617-0630 2019   \n",
       "1                     Report No 6. 0701-0714 2019   \n",
       "2                     Report No 8. 0729-0811 2019   \n",
       "3                     Report No 9. 0812-0825 2019   \n",
       "4                    Report No 10. 0826-0908 2019   \n",
       "..                                            ...   \n",
       "77                     Soros Monitor 3.0 - No. 14   \n",
       "78                     Soros Monitor 3.0 - No. 15   \n",
       "79                     Soros Monitor 3.0 - No. 16   \n",
       "80                     Soros Monitor 3.0 - No. 17   \n",
       "81  Soros Monitor 3.0 - Special Edition_ Colombia   \n",
       "\n",
       "                                                 Text  \n",
       "0   June 28 - June 30: Conservatives Blame OSF of ...  \n",
       "1   July 3: Big Profile Brazilian Conservatives Am...  \n",
       "2   August 6: Far-Rights Attacks to OSF From Europ...  \n",
       "3   August 23: An Old Conspiratorial Piece Denounc...  \n",
       "4   August 26: Christian Groups Point Out at Mr. S...  \n",
       "..                                                ...  \n",
       "77  in Brazil, NGO work is questioned over OSF’s f...  \n",
       "78  Perú The Peruvian Prosecutor’s Office has orde...  \n",
       "79  echoes of US student protests in Latam Last Ap...  \n",
       "80  Soros-naming is used to disregard human rights...  \n",
       "81  ﻿A yellow sign with black text Description aut...  \n",
       "\n",
       "[82 rows x 2 columns]"
      ]
     },
     "execution_count": 67,
     "metadata": {},
     "output_type": "execute_result"
    }
   ],
   "source": [
    "docs"
   ]
  },
  {
   "cell_type": "markdown",
   "metadata": {},
   "source": [
    "# 4. Preparar datos para construir el dataset"
   ]
  },
  {
   "cell_type": "code",
   "execution_count": 77,
   "metadata": {},
   "outputs": [],
   "source": [
    "docs_records = docs.to_dict(orient='records')"
   ]
  },
  {
   "cell_type": "code",
   "execution_count": 78,
   "metadata": {},
   "outputs": [],
   "source": [
    "path = r\"C:\\Users\\asarr\\Documents\\Projects\\llm-linterna-verde\\data\\results\"\n",
    "\n",
    "with open(path + '\\docs.jsonl', 'w') as f:\n",
    "    for record in docs_records:\n",
    "        f.write(json.dumps(record) + '\\n')"
   ]
  },
  {
   "cell_type": "markdown",
   "metadata": {},
   "source": [
    "# 5. Guardar datos"
   ]
  },
  {
   "cell_type": "code",
   "execution_count": 68,
   "metadata": {},
   "outputs": [],
   "source": [
    "docs.to_csv(r\"C:\\Users\\asarr\\Documents\\Projects\\llm-linterna-verde\\data\\results\\docs.csv\", index=False)"
   ]
  }
 ],
 "metadata": {
  "kernelspec": {
   "display_name": "base",
   "language": "python",
   "name": "python3"
  },
  "language_info": {
   "codemirror_mode": {
    "name": "ipython",
    "version": 3
   },
   "file_extension": ".py",
   "mimetype": "text/x-python",
   "name": "python",
   "nbconvert_exporter": "python",
   "pygments_lexer": "ipython3",
   "version": "3.11.5"
  }
 },
 "nbformat": 4,
 "nbformat_minor": 2
}
