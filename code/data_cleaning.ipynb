{
 "cells": [
  {
   "cell_type": "markdown",
   "metadata": {},
   "source": [
    "# 1. Bibliotecas y paquetes"
   ]
  },
  {
   "cell_type": "code",
   "execution_count": 38,
   "metadata": {},
   "outputs": [],
   "source": [
    "import pandas as pd\n",
    "import re\n",
    "import os\n",
    "import json"
   ]
  },
  {
   "cell_type": "markdown",
   "metadata": {},
   "source": [
    "# 2. Funciones"
   ]
  },
  {
   "cell_type": "code",
   "execution_count": 24,
   "metadata": {},
   "outputs": [],
   "source": [
    "def clean_document(file):\n",
    "    \"\"\" \n",
    "    Limpia el texto de un documento.\n",
    "        Input: \n",
    "            file (str): texto del documento.\n",
    "\n",
    "        Output:\n",
    "            doc (str): texto del documento limpio.\n",
    "    \"\"\"\n",
    "    doc = re.sub(r'\\n', ' ', file) # Elimina saltos de línea.\n",
    "    doc = re.sub(r'\\s+', ' ', doc) # Elimina espacios en blanco múltiples.\n",
    "    doc = re.sub(r'http\\S+', ' ', doc) # Elimina URLs.\n",
    "    doc = re.sub(r'.*This Month: ', '', doc) # Elimina texto al inicio del documento.\n",
    "    doc = re.sub(r'\\s*\\*\\s*\\*\\s*\\*\\s*PÁG\\.', '', doc) # Elimina texto al final del documento.\n",
    "\n",
    "    return doc\n",
    "    "
   ]
  },
  {
   "cell_type": "markdown",
   "metadata": {},
   "source": [
    "# 3. Importar texto y limpieza inicial"
   ]
  },
  {
   "cell_type": "code",
   "execution_count": 30,
   "metadata": {},
   "outputs": [],
   "source": [
    "# Variables iniciales.\n",
    "\n",
    "file_path = r\"C:\\Users\\asarr\\Documents\\Projects\\llm-linterna-verde\\data\\raw\"\n",
    "doc_dict = {'Monitoreo': [], 'Text': []}\n"
   ]
  },
  {
   "cell_type": "code",
   "execution_count": 31,
   "metadata": {},
   "outputs": [],
   "source": [
    "#importar y procesar archivos\n",
    "\n",
    "for file in os.listdir(file_path):\n",
    "    with open(os.path.join(file_path, file), 'r') as f:\n",
    "        text = f.read()      \n",
    "    \n",
    "    clean_text = clean_document(text)\n",
    "\n",
    "    doc_dict['Monitoreo'].append(file)\n",
    "    doc_dict['Text'].append(clean_text)\n",
    "\n",
    "docs = pd.DataFrame(doc_dict)"
   ]
  },
  {
   "cell_type": "code",
   "execution_count": 41,
   "metadata": {},
   "outputs": [
    {
     "data": {
      "text/html": [
       "<div>\n",
       "<style scoped>\n",
       "    .dataframe tbody tr th:only-of-type {\n",
       "        vertical-align: middle;\n",
       "    }\n",
       "\n",
       "    .dataframe tbody tr th {\n",
       "        vertical-align: top;\n",
       "    }\n",
       "\n",
       "    .dataframe thead th {\n",
       "        text-align: right;\n",
       "    }\n",
       "</style>\n",
       "<table border=\"1\" class=\"dataframe\">\n",
       "  <thead>\n",
       "    <tr style=\"text-align: right;\">\n",
       "      <th></th>\n",
       "      <th>Monitoreo</th>\n",
       "      <th>Text</th>\n",
       "    </tr>\n",
       "  </thead>\n",
       "  <tbody>\n",
       "    <tr>\n",
       "      <th>0</th>\n",
       "      <td>Soros Monitor 3.0 - No. 1.txt</td>\n",
       "      <td>Chile and Brazil go to the polls. Opposed resu...</td>\n",
       "    </tr>\n",
       "    <tr>\n",
       "      <th>1</th>\n",
       "      <td>Soros Monitor 3.0 - No. 13.txt</td>\n",
       "      <td>Bukele Wraps Up Campaign with Sharp Soros Crit...</td>\n",
       "    </tr>\n",
       "    <tr>\n",
       "      <th>2</th>\n",
       "      <td>Soros Monitor 3.0 - No. 14.txt</td>\n",
       "      <td>in Brazil, NGO work is questioned over OSF’s f...</td>\n",
       "    </tr>\n",
       "    <tr>\n",
       "      <th>3</th>\n",
       "      <td>Soros Monitor 3.0 - No. 15.txt</td>\n",
       "      <td>Perú The Peruvian Prosecutor’s Office has orde...</td>\n",
       "    </tr>\n",
       "    <tr>\n",
       "      <th>4</th>\n",
       "      <td>Soros Monitor 3.0 - No. 16.txt</td>\n",
       "      <td>echoes of US student protests in Latam Last Ap...</td>\n",
       "    </tr>\n",
       "  </tbody>\n",
       "</table>\n",
       "</div>"
      ],
      "text/plain": [
       "                        Monitoreo  \\\n",
       "0   Soros Monitor 3.0 - No. 1.txt   \n",
       "1  Soros Monitor 3.0 - No. 13.txt   \n",
       "2  Soros Monitor 3.0 - No. 14.txt   \n",
       "3  Soros Monitor 3.0 - No. 15.txt   \n",
       "4  Soros Monitor 3.0 - No. 16.txt   \n",
       "\n",
       "                                                Text  \n",
       "0  Chile and Brazil go to the polls. Opposed resu...  \n",
       "1  Bukele Wraps Up Campaign with Sharp Soros Crit...  \n",
       "2  in Brazil, NGO work is questioned over OSF’s f...  \n",
       "3  Perú The Peruvian Prosecutor’s Office has orde...  \n",
       "4  echoes of US student protests in Latam Last Ap...  "
      ]
     },
     "execution_count": 41,
     "metadata": {},
     "output_type": "execute_result"
    }
   ],
   "source": [
    "docs.head()"
   ]
  },
  {
   "cell_type": "markdown",
   "metadata": {},
   "source": [
    "# 4. Preparar datos para construir el dataset"
   ]
  },
  {
   "cell_type": "code",
   "execution_count": 37,
   "metadata": {},
   "outputs": [],
   "source": [
    "docs_records = docs.to_dict(orient='records')"
   ]
  },
  {
   "cell_type": "code",
   "execution_count": 45,
   "metadata": {},
   "outputs": [],
   "source": [
    "path = r\"C:\\Users\\asarr\\Documents\\Projects\\llm-linterna-verde\\data\\results\"\n",
    "\n",
    "with open(path + '\\docs.jsonl', 'w') as f:\n",
    "    for record in docs_records:\n",
    "        f.write(json.dumps(record) + '\\n')"
   ]
  },
  {
   "cell_type": "markdown",
   "metadata": {},
   "source": [
    "# 5. Guardar datos"
   ]
  },
  {
   "cell_type": "code",
   "execution_count": 46,
   "metadata": {},
   "outputs": [],
   "source": [
    "docs.to_csv(r\"C:\\Users\\asarr\\Documents\\Projects\\llm-linterna-verde\\data\\results\\docs.csv\", index=False)"
   ]
  }
 ],
 "metadata": {
  "kernelspec": {
   "display_name": "base",
   "language": "python",
   "name": "python3"
  },
  "language_info": {
   "codemirror_mode": {
    "name": "ipython",
    "version": 3
   },
   "file_extension": ".py",
   "mimetype": "text/x-python",
   "name": "python",
   "nbconvert_exporter": "python",
   "pygments_lexer": "ipython3",
   "version": "3.11.5"
  }
 },
 "nbformat": 4,
 "nbformat_minor": 2
}
